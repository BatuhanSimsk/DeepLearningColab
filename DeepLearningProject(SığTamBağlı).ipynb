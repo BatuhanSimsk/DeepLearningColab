{
  "cells": [
    {
      "cell_type": "code",
      "execution_count": null,
      "metadata": {
        "colab": {
          "base_uri": "https://localhost:8080/"
        },
        "id": "AUiWJORmcrko",
        "outputId": "5005da03-5459-43bc-bca2-14e8d2d69ad1"
      },
      "outputs": [],
      "source": [
        "!kaggle datasets download -d tawsifurrahman/covid19-radiography-database"
      ]
    },
    {
      "cell_type": "code",
      "execution_count": null,
      "metadata": {},
      "outputs": [],
      "source": [
        "import torch\n",
        "import torch.nn as nn\n",
        "import torch.optim as optim\n",
        "from torchvision import datasets, transforms\n",
        "from torch.utils.data import DataLoader\n",
        "import zipfile\n",
        "\n"
      ]
    },
    {
      "cell_type": "code",
      "execution_count": 3,
      "metadata": {
        "id": "t3_JWPZObqvd"
      },
      "outputs": [],
      "source": [
        "import zipfile\n",
        "\n",
        "# ZIP dosyasının yolu\n",
        "zip_file_path = '/content/covid19-radiography-database.zip'\n",
        "\n",
        "# Çıkartılacak hedef klasör\n",
        "extracted_folder_path = '/content/'\n",
        "\n",
        "# ZIP dosyasını aç\n",
        "with zipfile.ZipFile(zip_file_path, 'r') as zip_ref:\n",
        "    zip_ref.extractall(extracted_folder_path)"
      ]
    },
    {
      "cell_type": "code",
      "execution_count": null,
      "metadata": {},
      "outputs": [],
      "source": [
        "import os\n",
        "import shutil\n",
        "import numpy as np\n",
        "from sklearn.model_selection import train_test_split\n",
        "\n",
        "data_dir = '/content/COVID-19_Radiography_Dataset'\n",
        "\n",
        "train_dir = '/content/TrainTemp'\n",
        "test_dir = '/content/Test'\n",
        "\n",
        "classes = ['COVID', 'Normal', 'Viral Pneumonia']\n",
        "\n",
        "os.makedirs(train_dir, exist_ok=True)\n",
        "os.makedirs(test_dir, exist_ok=True)\n",
        "\n",
        "# Her sınıf için eğitim ve test dizinlerini oluştur\n",
        "for cls in classes:\n",
        "    os.makedirs(os.path.join(train_dir, cls), exist_ok=True)\n",
        "    os.makedirs(os.path.join(test_dir, cls), exist_ok=True)\n",
        "\n",
        "# Her sınıf için görsel dosyalarını eğitim ve test dizinlerine kopyala\n",
        "for cls in classes:\n",
        "    cls_dir = os.path.join(data_dir, cls, 'images')\n",
        "    images = os.listdir(cls_dir)\n",
        "    train_images, test_images = train_test_split(images, test_size=0.2, random_state=99)\n",
        "\n",
        "    for img in train_images:\n",
        "        src = os.path.join(cls_dir, img)\n",
        "        dst = os.path.join(train_dir, cls, img)\n",
        "        shutil.copy(src, dst)\n",
        "\n",
        "    for img in test_images:\n",
        "        src = os.path.join(cls_dir, img)\n",
        "        dst = os.path.join(test_dir, cls, img)\n",
        "        shutil.copy(src, dst)\n"
      ]
    },
    {
      "cell_type": "code",
      "execution_count": null,
      "metadata": {},
      "outputs": [],
      "source": [
        "import os\n",
        "import shutil\n",
        "from sklearn.model_selection import train_test_split\n",
        "\n",
        "train_dir = '/content/TrainTemp'\n",
        "\n",
        "train_data_dir = '/content/Train'\n",
        "validation_data_dir = '/content/Validation'\n",
        "test_data_dir = '/content/Test'  # Test veri setinin bulunduğu dizin\n",
        "\n",
        "os.makedirs(train_data_dir, exist_ok=True)\n",
        "os.makedirs(validation_data_dir, exist_ok=True)\n",
        "\n",
        "classes = ['COVID', 'Normal', 'Viral Pneumonia']\n",
        "\n",
        "# Her sınıf için eğitim ve doğrulama dizinlerini oluştur\n",
        "for cls in classes:\n",
        "    os.makedirs(os.path.join(train_data_dir, cls), exist_ok=True)\n",
        "    os.makedirs(os.path.join(validation_data_dir, cls), exist_ok=True)\n",
        "\n",
        "# Her sınıf için eğitim verisini eğitim ve doğrulama setlerine ayır\n",
        "for cls in classes:\n",
        "    cls_dir = os.path.join(train_dir, cls)\n",
        "    train_images = os.listdir(cls_dir)\n",
        "    train_images, validation_images = train_test_split(train_images, test_size=0.125, random_state=99)\n",
        "\n",
        "    for img in train_images:\n",
        "        src = os.path.join(cls_dir, img)\n",
        "        dst = os.path.join(train_data_dir, cls, img)\n",
        "        shutil.copy(src, dst)\n",
        "\n",
        "    for img in validation_images:\n",
        "        src = os.path.join(cls_dir, img)\n",
        "        dst = os.path.join(validation_data_dir, cls, img)\n",
        "        shutil.copy(src, dst)\n",
        "\n",
        "\n",
        "import shutil\n",
        "\n",
        "shutil.rmtree(\"/content/TrainTemp\")"
      ]
    },
    {
      "cell_type": "code",
      "execution_count": 32,
      "metadata": {
        "id": "02mUyrlmc1ti"
      },
      "outputs": [],
      "source": [
        "\n",
        "\n",
        "# Veri dönüşümleri\n",
        "data_transforms = {\n",
        "    'Train': transforms.Compose([\n",
        "        transforms.RandomResizedCrop(224),\n",
        "        transforms.RandomHorizontalFlip(),\n",
        "        transforms.ToTensor(),\n",
        "        transforms.Normalize([0.485, 0.456, 0.406], [0.229, 0.224, 0.225])\n",
        "    ]),\n",
        "    'Validation': transforms.Compose([\n",
        "        transforms.Resize(256),\n",
        "        transforms.CenterCrop(224),\n",
        "        transforms.ToTensor(),\n",
        "        transforms.Normalize([0.485, 0.456, 0.406], [0.229, 0.224, 0.225])\n",
        "    ]),\n",
        "    'Test': transforms.Compose([\n",
        "        transforms.Resize(256),\n",
        "        transforms.CenterCrop(224),\n",
        "        transforms.ToTensor(),\n",
        "        transforms.Normalize([0.485, 0.456, 0.406], [0.229, 0.224, 0.225])\n",
        "    ]),\n",
        "}\n",
        "\n",
        "image_datasets = {\n",
        "    'Train': datasets.ImageFolder(root=train_data_dir, transform=data_transforms['Train']),\n",
        "    'Validation': datasets.ImageFolder(root=validation_data_dir, transform=data_transforms['Validation']),\n",
        "    'Test': datasets.ImageFolder(root=test_data_dir, transform=data_transforms['Validation'])\n",
        "}\n",
        "\n",
        "dataloaders = {\n",
        "    'Train': DataLoader(image_datasets['Train'], batch_size=32, shuffle=True),\n",
        "    'Validation': DataLoader(image_datasets['Validation'], batch_size=32, shuffle=False),\n",
        "    'Test': DataLoader(image_datasets['Test'], batch_size=32, shuffle=False)\n",
        "}\n"
      ]
    },
    {
      "cell_type": "code",
      "execution_count": 28,
      "metadata": {
        "id": "MdGyslgsc8Jv"
      },
      "outputs": [],
      "source": [
        "class ShallowFCN(nn.Module):\n",
        "    def __init__(self, input_size, hidden_size, num_classes):\n",
        "        super(ShallowFCN, self).__init__()\n",
        "        self.fc1 = nn.Linear(input_size, hidden_size)\n",
        "        self.relu = nn.ReLU()\n",
        "        self.fc2 = nn.Linear(hidden_size, num_classes)\n",
        "\n",
        "    def forward(self, x):\n",
        "        x = x.view(x.size(0), -1)  # Düzleştirme\n",
        "        x = self.fc1(x)\n",
        "        x = self.relu(x)\n",
        "        x = self.fc2(x)\n",
        "        return x"
      ]
    },
    {
      "cell_type": "code",
      "execution_count": 33,
      "metadata": {
        "id": "YMNZ8LO9dAB2"
      },
      "outputs": [],
      "source": [
        "# Model parametreleri\n",
        "input_size = 224 * 224 * 3  # Resim boyutu 224x224 ve 3 kanal (RGB)\n",
        "hidden_size = 512\n",
        "num_classes = len(image_datasets['Train'].classes))\n",
        "\n",
        "# Modeli oluştur\n",
        "model = ShallowFCN(input_size, hidden_size, num_classes)\n",
        "\n",
        "# Eğitim için CUDA kullanılabilirse GPU'ya taşıma\n",
        "device = torch.device(\"cuda\" if torch.cuda.is_available() else \"cpu\")\n",
        "model = model.to(device)\n",
        "\n"
      ]
    },
    {
      "cell_type": "code",
      "execution_count": 34,
      "metadata": {
        "colab": {
          "base_uri": "https://localhost:8080/"
        },
        "id": "9yL8GV3ddIls",
        "outputId": "b8005403-d108-42a5-8791-e4aec709f68e"
      },
      "outputs": [
        {
          "name": "stderr",
          "output_type": "stream",
          "text": [
            "Epoch 1/1: 100%|\u001b[32m██████████\u001b[0m| 305/305 [02:10<00:00,  2.34batch/s, Loss=0.109]"
          ]
        },
        {
          "name": "stdout",
          "output_type": "stream",
          "text": [
            "Epoch 1/1, Loss: 0.0137\n"
          ]
        },
        {
          "name": "stderr",
          "output_type": "stream",
          "text": [
            "\n"
          ]
        }
      ],
      "source": [
        "import torch.optim as optim\n",
        "import torch.nn.functional as F\n",
        "\n",
        "optimizer = optim.SGD(model.parameters(), lr=0.001, momentum=0.9)\n",
        "criterion = nn.CrossEntropyLoss()\n",
        "\n",
        "from tqdm import tqdm\n",
        "\n",
        "epochs = 3\n",
        "for epoch in range(epochs):\n",
        "    running_loss = 0.0\n",
        "    progress_bar = tqdm(enumerate(train_loader), total=len(train_loader), desc=f\"Epoch {epoch+1}/{epochs}\", unit=\"batch\", colour='green', leave=True)\n",
        "    for batch_idx, (inputs, labels) in progress_bar:\n",
        "        inputs, labels = inputs.to(device), labels.to(device)\n",
        "\n",
        "        # Gradientleri sıfırlama\n",
        "        optimizer.zero_grad()\n",
        "\n",
        "        # Forward pass\n",
        "        outputs = model(inputs)\n",
        "        loss = criterion(outputs, labels)\n",
        "\n",
        "        # Backward pass ve optimizasyon\n",
        "        loss.backward()\n",
        "        optimizer.step()\n",
        "\n",
        "        running_loss += loss.item()\n",
        "\n",
        "        progress_bar.set_postfix({'Loss': loss.item()})\n",
        "\n",
        "    epoch_loss = running_loss / len(train_dataset)\n",
        "    print(f\"Epoch {epoch+1}/{epochs}, Loss: {epoch_loss:.4f}\")"
      ]
    },
    {
      "cell_type": "code",
      "execution_count": 35,
      "metadata": {
        "colab": {
          "base_uri": "https://localhost:8080/"
        },
        "id": "m_P4TjRfdOtL",
        "outputId": "6ee53796-d0de-40f4-e681-0701d4950cea"
      },
      "outputs": [
        {
          "name": "stdout",
          "output_type": "stream",
          "text": [
            "Test Accuracy: 0.8871\n",
            "Precision: 0.8835\n",
            "Recall: 0.9430\n",
            "F1-Score: 0.9123\n",
            "TP: 364\n",
            "FP: 48\n",
            "FN: 22\n",
            "TN: 186\n"
          ]
        }
      ],
      "source": [
        "correct = 0\n",
        "total = 0\n",
        "TP = 0\n",
        "FP = 0\n",
        "FN = 0\n",
        "TN = 0\n",
        "\n",
        "with torch.no_grad():\n",
        "    for inputs, labels in dataloaders['Test']:  # dataloaders'ı doğru şekilde kullanın\n",
        "        inputs, labels = inputs.to(device), labels.to(device)\n",
        "        outputs = model(inputs)\n",
        "        _, predicted = torch.max(outputs, 1)\n",
        "        total += labels.size(0)\n",
        "        correct += (predicted == labels).sum().item()\n",
        "\n",
        "        # Kesinlik ve Duyarlılık için TP, FP, FN ve TN değerlerini hesapla\n",
        "        TP += ((predicted == labels) & (labels == 1)).sum().item()\n",
        "        FP += ((predicted != labels) & (labels == 0)).sum().item()\n",
        "        FN += ((predicted != labels) & (labels == 1)).sum().item()\n",
        "        TN += ((predicted == labels) & (labels == 0)).sum().item()\n",
        "\n",
        "# Doğruluk (Accuracy) hesapla\n",
        "accuracy = correct / total\n",
        "\n",
        "# Kesinlik (Precision) hesapla\n",
        "precision = TP / (TP + FP) if (TP + FP) != 0 else 0\n",
        "\n",
        "# Duyarlılık (Recall) hesapla\n",
        "recall = TP / (TP + FN) if (TP + FN) != 0 else 0\n",
        "\n",
        "# F1-Skoru hesapla\n",
        "f1_score = 2 * (precision * recall) / (precision + recall) if (precision + recall) != 0 else 0\n",
        "\n",
        "print(f\"Test Accuracy: {accuracy:.4f}\")\n",
        "print(f\"Precision: {precision:.4f}\")\n",
        "print(f\"Recall: {recall:.4f}\")\n",
        "print(f\"F1-Score: {f1_score:.4f}\")\n",
        "\n",
        "print(f\"TP: {TP}\")\n",
        "print(f\"FP: {FP}\")\n",
        "print(f\"FN: {FN}\")\n",
        "print(f\"TN: {TN}\")"
      ]
    }
  ],
  "metadata": {
    "accelerator": "GPU",
    "colab": {
      "gpuType": "T4",
      "provenance": []
    },
    "kernelspec": {
      "display_name": "Python 3",
      "name": "python3"
    },
    "language_info": {
      "name": "python"
    }
  },
  "nbformat": 4,
  "nbformat_minor": 0
}
