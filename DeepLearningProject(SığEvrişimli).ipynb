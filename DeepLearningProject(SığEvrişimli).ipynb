{
  "nbformat": 4,
  "nbformat_minor": 0,
  "metadata": {
    "colab": {
      "provenance": [],
      "gpuType": "T4"
    },
    "kernelspec": {
      "name": "python3",
      "display_name": "Python 3"
    },
    "language_info": {
      "name": "python"
    },
    "accelerator": "GPU"
  },
  "cells": [
    {
      "cell_type": "code",
      "source": [
        "!kaggle datasets download -d vivek468/beginner-chest-xray-image-classification"
      ],
      "metadata": {
        "id": "--bvXoYRyY7d",
        "colab": {
          "base_uri": "https://localhost:8080/"
        },
        "outputId": "117c177e-fbf7-4275-d0dd-4762e9518396"
      },
      "execution_count": 1,
      "outputs": [
        {
          "output_type": "stream",
          "name": "stdout",
          "text": [
            "Dataset URL: https://www.kaggle.com/datasets/vivek468/beginner-chest-xray-image-classification\n",
            "License(s): other\n",
            "Downloading beginner-chest-xray-image-classification.zip to /content\n",
            " 99% 2.06G/2.08G [00:19<00:00, 133MB/s]\n",
            "100% 2.08G/2.08G [00:19<00:00, 112MB/s]\n"
          ]
        }
      ]
    },
    {
      "cell_type": "code",
      "execution_count": 2,
      "metadata": {
        "id": "gwbD20uYyHPE"
      },
      "outputs": [],
      "source": [
        "import torch\n",
        "import torch.nn as nn\n",
        "import torch.optim as optim\n",
        "import torchvision\n",
        "from torchvision import datasets, transforms\n",
        "from torch.utils.data import DataLoader\n",
        "\n",
        "import zipfile"
      ]
    },
    {
      "cell_type": "code",
      "source": [
        "# ZIP dosyasının yolu\n",
        "zip_file_path = '/content/beginner-chest-xray-image-classification.zip'\n",
        "\n",
        "# Çıkartılacak hedef klasör\n",
        "extracted_folder_path = '/content/'\n",
        "\n",
        "# ZIP dosyasını aç\n",
        "with zipfile.ZipFile(zip_file_path, 'r') as zip_ref:\n",
        "    zip_ref.extractall(extracted_folder_path)\n",
        "\n"
      ],
      "metadata": {
        "id": "f0Dkvp6gyojR"
      },
      "execution_count": 3,
      "outputs": []
    },
    {
      "cell_type": "code",
      "source": [
        "# Veri setinin dizini\n",
        "data_dir = \"/content/chest_xray\"\n",
        "\n",
        "# Veri ön işleme ve artırma\n",
        "data_transforms = transforms.Compose([\n",
        "    transforms.Resize((224, 224)),\n",
        "    transforms.ToTensor(),\n",
        "])\n",
        "\n",
        "# Veri yükleyicileri oluşturma\n",
        "train_dataset = datasets.ImageFolder(root=data_dir + '/train', transform=data_transforms)\n",
        "train_loader = DataLoader(train_dataset, batch_size=4, shuffle=True, num_workers=4)\n",
        "\n",
        "test_dataset = datasets.ImageFolder(root=data_dir + '/test', transform=data_transforms)\n",
        "test_loader = DataLoader(test_dataset, batch_size=4, shuffle=False, num_workers=4)\n",
        "\n"
      ],
      "metadata": {
        "id": "EvXBjdcTzXxj",
        "colab": {
          "base_uri": "https://localhost:8080/"
        },
        "outputId": "ccff5185-4d1e-4658-f841-e34c871350ef"
      },
      "execution_count": 4,
      "outputs": [
        {
          "output_type": "stream",
          "name": "stderr",
          "text": [
            "/usr/local/lib/python3.10/dist-packages/torch/utils/data/dataloader.py:558: UserWarning: This DataLoader will create 4 worker processes in total. Our suggested max number of worker in current system is 2, which is smaller than what this DataLoader is going to create. Please be aware that excessive worker creation might get DataLoader running slow or even freeze, lower the worker number to avoid potential slowness/freeze if necessary.\n",
            "  warnings.warn(_create_warning_msg(\n"
          ]
        }
      ]
    },
    {
      "cell_type": "code",
      "source": [
        "class ShallowCNN(nn.Module):\n",
        "    def __init__(self, num_classes):\n",
        "        super(ShallowCNN, self).__init__()\n",
        "        self.layer1 = nn.Sequential(\n",
        "            nn.Conv2d(3, 16, kernel_size=3, padding=1),\n",
        "            nn.BatchNorm2d(16),\n",
        "            nn.ReLU(),\n",
        "            nn.MaxPool2d(kernel_size=2, stride=2))\n",
        "        self.layer2 = nn.Sequential(\n",
        "            nn.Conv2d(16, 32, kernel_size=3, padding=1),\n",
        "            nn.BatchNorm2d(32),\n",
        "            nn.ReLU(),\n",
        "            nn.MaxPool2d(kernel_size=2, stride=2))\n",
        "        self.fc1 = nn.Linear(32 * 56 * 56, 128)\n",
        "        self.fc2 = nn.Linear(128, num_classes)\n",
        "\n",
        "    def forward(self, x):\n",
        "        x = self.layer1(x)\n",
        "        x = self.layer2(x)\n",
        "        x = x.view(x.size(0), -1)  # Düzleştirme\n",
        "        x = self.fc1(x)\n",
        "        x = self.fc2(x)\n",
        "        return x\n",
        "\n"
      ],
      "metadata": {
        "id": "2tMJgrPbza2J"
      },
      "execution_count": 5,
      "outputs": []
    },
    {
      "cell_type": "code",
      "source": [
        "# Model parametreleri\n",
        "num_classes = len(train_dataset.classes)\n",
        "\n",
        "# Modeli oluştur\n",
        "model = ShallowCNN(num_classes)\n",
        "\n",
        "# Eğitim için CUDA kullanılabilirse GPU'ya taşıma\n",
        "device = torch.device(\"cuda\" if torch.cuda.is_available() else \"cpu\")\n",
        "model = model.to(device)\n",
        "\n",
        "optimizer = optim.SGD(model.parameters(), lr=0.001, momentum=0.9)\n",
        "criterion = nn.CrossEntropyLoss()\n",
        "\n"
      ],
      "metadata": {
        "id": "pukvymEBzeC2"
      },
      "execution_count": 6,
      "outputs": []
    },
    {
      "cell_type": "code",
      "source": [
        "from tqdm import tqdm\n",
        "\n",
        "epochs = 1\n",
        "for epoch in range(epochs):\n",
        "    running_loss = 0.0\n",
        "    progress_bar = tqdm(enumerate(train_loader), total=len(train_loader), desc=f\"Epoch {epoch+1}/{epochs}\", unit=\"batch\", colour='green', leave=True)\n",
        "    for batch_idx, (inputs, labels) in progress_bar:\n",
        "        inputs, labels = inputs.to(device), labels.to(device)\n",
        "\n",
        "        # Gradientleri sıfırlama\n",
        "        optimizer.zero_grad()\n",
        "\n",
        "        # Forward pass\n",
        "        outputs = model(inputs)\n",
        "        loss = criterion(outputs, labels)\n",
        "\n",
        "        # Backward pass ve optimizasyon\n",
        "        loss.backward()\n",
        "        optimizer.step()\n",
        "\n",
        "        running_loss += loss.item() * inputs.size(0)\n",
        "\n",
        "        progress_bar.set_postfix({'Loss': loss.item()})\n",
        "\n",
        "    epoch_loss = running_loss / len(train_dataset)\n",
        "    print(f\"Epoch {epoch+1}/{epochs}, Loss: {epoch_loss:.4f}\")\n",
        "\n"
      ],
      "metadata": {
        "id": "ZdJJGEPDzg06",
        "colab": {
          "base_uri": "https://localhost:8080/"
        },
        "outputId": "3136d60c-b709-41ca-d108-ea2f9407d235"
      },
      "execution_count": 7,
      "outputs": [
        {
          "output_type": "stream",
          "name": "stderr",
          "text": [
            "/usr/lib/python3.10/multiprocessing/popen_fork.py:66: RuntimeWarning: os.fork() was called. os.fork() is incompatible with multithreaded code, and JAX is multithreaded, so this will likely lead to a deadlock.\n",
            "  self.pid = os.fork()\n",
            "Epoch 1/1: 100%|\u001b[32m██████████\u001b[0m| 1829/1829 [02:20<00:00, 13.03batch/s, Loss=0.164]"
          ]
        },
        {
          "output_type": "stream",
          "name": "stdout",
          "text": [
            "Epoch 1/1, Loss: 0.2635\n"
          ]
        },
        {
          "output_type": "stream",
          "name": "stderr",
          "text": [
            "\n"
          ]
        }
      ]
    },
    {
      "cell_type": "code",
      "source": [
        "correct = 0\n",
        "total = 0\n",
        "TP = 0\n",
        "FP = 0\n",
        "FN = 0\n",
        "TN = 0\n",
        "\n",
        "with torch.no_grad():\n",
        "    for inputs, labels in test_loader:\n",
        "        inputs, labels = inputs.to(device), labels.to(device)\n",
        "        outputs = model(inputs)\n",
        "        _, predicted = torch.max(outputs, 1)\n",
        "        total += labels.size(0)\n",
        "        correct += (predicted == labels).sum().item()\n",
        "\n",
        "        # Kesinlik ve Duyarlılık için TP, FP, FN ve TN değerlerini hesapla\n",
        "        TP += ((predicted == labels) & (labels == 1)).sum().item()\n",
        "        FP += ((predicted != labels) & (labels == 0)).sum().item()\n",
        "        FN += ((predicted != labels) & (labels == 1)).sum().item()\n",
        "        TN += ((predicted == labels) & (labels == 0)).sum().item()\n",
        "\n",
        "# Doğruluk (Accuracy) hesapla\n",
        "accuracy = correct / total\n",
        "\n",
        "# Kesinlik (Precision) hesapla\n",
        "precision = TP / (TP + FP) if (TP + FP) != 0 else 0\n",
        "\n",
        "# Duyarlılık (Recall) hesapla\n",
        "recall = TP / (TP + FN) if (TP + FN) != 0 else 0\n",
        "\n",
        "# F1-Skoru hesapla\n",
        "f1_score = 2 * (precision * recall) / (precision + recall) if (precision + recall) != 0 else 0\n",
        "\n",
        "print(f\"Test Accuracy: {accuracy:.4f}\")\n",
        "print(f\"Precision: {precision:.4f}\")\n",
        "print(f\"Recall: {recall:.4f}\")\n",
        "print(f\"F1-Score: {f1_score:.4f}\")\n",
        "\n",
        "print(f\"TP: {TP}\")\n",
        "print(f\"FP: {FP}\")\n",
        "print(f\"FN: {FN}\")\n",
        "print(f\"TN: {TN}\")"
      ],
      "metadata": {
        "id": "lnP0QIULzor5",
        "colab": {
          "base_uri": "https://localhost:8080/"
        },
        "outputId": "226036d7-8ba1-4d59-f784-eaf3222ec125"
      },
      "execution_count": 8,
      "outputs": [
        {
          "output_type": "stream",
          "name": "stdout",
          "text": [
            "Test Accuracy: 0.9016\n",
            "Precision: 0.8788\n",
            "Recall: 0.9767\n",
            "F1-Score: 0.9252\n",
            "TP: 377\n",
            "FP: 52\n",
            "FN: 9\n",
            "TN: 182\n"
          ]
        }
      ]
    }
  ]
}