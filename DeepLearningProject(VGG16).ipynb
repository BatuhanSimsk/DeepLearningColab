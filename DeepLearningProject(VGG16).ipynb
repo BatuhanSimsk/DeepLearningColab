{
  "nbformat": 4,
  "nbformat_minor": 0,
  "metadata": {
    "colab": {
      "provenance": [],
      "gpuType": "T4"
    },
    "kernelspec": {
      "name": "python3",
      "display_name": "Python 3"
    },
    "language_info": {
      "name": "python"
    },
    "accelerator": "GPU"
  },
  "cells": [
    {
      "cell_type": "code",
      "execution_count": 1,
      "metadata": {
        "colab": {
          "base_uri": "https://localhost:8080/"
        },
        "id": "y53-zNkHqP_t",
        "outputId": "3acd799a-9b97-46f5-bc87-5ed7caa4c8e9"
      },
      "outputs": [
        {
          "output_type": "stream",
          "name": "stdout",
          "text": [
            "Dataset URL: https://www.kaggle.com/datasets/vivek468/beginner-chest-xray-image-classification\n",
            "License(s): other\n",
            "Downloading beginner-chest-xray-image-classification.zip to /content\n",
            "100% 2.08G/2.08G [01:50<00:00, 20.8MB/s]\n",
            "100% 2.08G/2.08G [01:50<00:00, 20.1MB/s]\n"
          ]
        }
      ],
      "source": [
        "!kaggle datasets download -d vivek468/beginner-chest-xray-image-classification"
      ]
    },
    {
      "cell_type": "code",
      "source": [
        "import zipfile\n",
        "\n",
        "# ZIP dosyasının yolu\n",
        "zip_file_path = '/content/beginner-chest-xray-image-classification.zip'\n",
        "\n",
        "# Çıkartılacak hedef klasör\n",
        "extracted_folder_path = '/content/'\n",
        "\n",
        "# ZIP dosyasını aç\n",
        "with zipfile.ZipFile(zip_file_path, 'r') as zip_ref:\n",
        "    zip_ref.extractall(extracted_folder_path)"
      ],
      "metadata": {
        "id": "i9pHzT3EuFwd"
      },
      "execution_count": 2,
      "outputs": []
    },
    {
      "cell_type": "code",
      "source": [
        "import torch\n",
        "from torchvision import datasets, transforms\n",
        "from torch.utils.data import DataLoader\n",
        "\n",
        "# Veri setinin dizini\n",
        "data_dir = \"/content/chest_xray\"\n",
        "\n",
        "# Veri ön işleme ve artırma\n",
        "data_transforms = transforms.Compose([\n",
        "    transforms.Resize((224, 224)),\n",
        "    transforms.ToTensor(),\n",
        "    #transforms.Normalize([0.485, 0.456, 0.406], [0.229, 0.224, 0.225])  # ImageNet mean ve std\n",
        "])\n",
        "\n",
        "# Veri yükleyicileri oluşturma\n",
        "train_dataset = datasets.ImageFolder(root=data_dir + '/train', transform=data_transforms)\n",
        "train_loader = DataLoader(train_dataset, batch_size=32, shuffle=True)\n",
        "\n",
        "test_dataset = datasets.ImageFolder(root=data_dir + '/test', transform=data_transforms)\n",
        "test_loader = DataLoader(test_dataset, batch_size=32, shuffle=False)"
      ],
      "metadata": {
        "id": "wqbrv50KwtpU"
      },
      "execution_count": 3,
      "outputs": []
    },
    {
      "cell_type": "code",
      "source": [
        "import torch.nn as nn\n",
        "import torchvision.models as models\n",
        "\n",
        "# VGG16 modelini yükleme\n",
        "vgg16 = models.vgg16(pretrained=True)\n",
        "\n",
        "# Son fully connected layer'ı değiştirme\n",
        "num_ftrs = vgg16.classifier[6].in_features\n",
        "vgg16.classifier[6] = nn.Linear(num_ftrs, len(train_dataset.classes))\n",
        "\n",
        "# Eğitim için CUDA kullanılabilirse GPU'ya taşıma ve DataParallel kullanarak sarmalama\n",
        "device = torch.device(\"cuda\" if torch.cuda.is_available() else \"cpu\")\n",
        "vgg16 = nn.DataParallel(vgg16)  # DataParallel ile modeli sarmalama\n",
        "vgg16 = vgg16.to(device)"
      ],
      "metadata": {
        "colab": {
          "base_uri": "https://localhost:8080/"
        },
        "id": "4LVFoDpYxwAQ",
        "outputId": "dd1be6d3-b970-49ca-fe90-4ecdd63a8041"
      },
      "execution_count": 4,
      "outputs": [
        {
          "output_type": "stream",
          "name": "stderr",
          "text": [
            "/usr/local/lib/python3.10/dist-packages/torchvision/models/_utils.py:208: UserWarning: The parameter 'pretrained' is deprecated since 0.13 and may be removed in the future, please use 'weights' instead.\n",
            "  warnings.warn(\n",
            "/usr/local/lib/python3.10/dist-packages/torchvision/models/_utils.py:223: UserWarning: Arguments other than a weight enum or `None` for 'weights' are deprecated since 0.13 and may be removed in the future. The current behavior is equivalent to passing `weights=VGG16_Weights.IMAGENET1K_V1`. You can also use `weights=VGG16_Weights.DEFAULT` to get the most up-to-date weights.\n",
            "  warnings.warn(msg)\n",
            "Downloading: \"https://download.pytorch.org/models/vgg16-397923af.pth\" to /root/.cache/torch/hub/checkpoints/vgg16-397923af.pth\n",
            "100%|██████████| 528M/528M [00:03<00:00, 139MB/s]\n"
          ]
        }
      ]
    },
    {
      "cell_type": "code",
      "source": [
        "import torch.optim as optim\n",
        "import torch.nn.functional as F\n",
        "\n",
        "# Optimizasyon algoritması ve kayıp fonksiyonu\n",
        "optimizer = optim.SGD(vgg16.parameters(), lr=0.001, momentum=0.9)\n",
        "criterion = nn.CrossEntropyLoss()\n",
        "\n",
        "# Eğitim döngüsü\n",
        "from tqdm import tqdm\n",
        "\n",
        "epochs = 7\n",
        "for epoch in range(epochs):\n",
        "    running_loss = 0.0\n",
        "    progress_bar = tqdm(enumerate(train_loader), total=len(train_loader), desc=f\"Epoch {epoch+1}/{epochs}\", unit=\"batch\", colour='green', leave=True)\n",
        "    for batch_idx, (inputs, labels) in progress_bar:\n",
        "        inputs, labels = inputs.to(device), labels.to(device)\n",
        "\n",
        "        # Gradientleri sıfırlama\n",
        "        optimizer.zero_grad()\n",
        "\n",
        "        # Forward pass\n",
        "        outputs = vgg16(inputs)\n",
        "        loss = criterion(outputs, labels)\n",
        "\n",
        "        # Backward pass ve optimizasyon\n",
        "        loss.backward()\n",
        "        optimizer.step()\n",
        "\n",
        "        running_loss += loss.item() * inputs.size(0)\n",
        "\n",
        "        progress_bar.set_postfix({'Loss': loss.item()})\n",
        "\n",
        "    epoch_loss = running_loss / len(train_dataset)\n",
        "    print(f\"Epoch {epoch+1}/{epochs}, Loss: {epoch_loss:.4f}\")"
      ],
      "metadata": {
        "colab": {
          "base_uri": "https://localhost:8080/"
        },
        "id": "7iNuryjOx34J",
        "outputId": "925f6037-7787-4d7e-c0d1-39507d6eaed1"
      },
      "execution_count": 6,
      "outputs": [
        {
          "output_type": "stream",
          "name": "stderr",
          "text": [
            "Epoch 1/7: 100%|\u001b[32m██████████\u001b[0m| 229/229 [04:08<00:00,  1.09s/batch, Loss=0.0195]\n"
          ]
        },
        {
          "output_type": "stream",
          "name": "stdout",
          "text": [
            "Epoch 1/7, Loss: 0.0557\n"
          ]
        },
        {
          "output_type": "stream",
          "name": "stderr",
          "text": [
            "Epoch 2/7: 100%|\u001b[32m██████████\u001b[0m| 229/229 [04:07<00:00,  1.08s/batch, Loss=0.0102]\n"
          ]
        },
        {
          "output_type": "stream",
          "name": "stdout",
          "text": [
            "Epoch 2/7, Loss: 0.0383\n"
          ]
        },
        {
          "output_type": "stream",
          "name": "stderr",
          "text": [
            "Epoch 3/7: 100%|\u001b[32m██████████\u001b[0m| 229/229 [04:05<00:00,  1.07s/batch, Loss=0.000149]\n"
          ]
        },
        {
          "output_type": "stream",
          "name": "stdout",
          "text": [
            "Epoch 3/7, Loss: 0.0281\n"
          ]
        },
        {
          "output_type": "stream",
          "name": "stderr",
          "text": [
            "Epoch 4/7: 100%|\u001b[32m██████████\u001b[0m| 229/229 [04:06<00:00,  1.08s/batch, Loss=0.00333]\n"
          ]
        },
        {
          "output_type": "stream",
          "name": "stdout",
          "text": [
            "Epoch 4/7, Loss: 0.0135\n"
          ]
        },
        {
          "output_type": "stream",
          "name": "stderr",
          "text": [
            "Epoch 5/7: 100%|\u001b[32m██████████\u001b[0m| 229/229 [04:05<00:00,  1.07s/batch, Loss=0.00104]\n"
          ]
        },
        {
          "output_type": "stream",
          "name": "stdout",
          "text": [
            "Epoch 5/7, Loss: 0.0070\n"
          ]
        },
        {
          "output_type": "stream",
          "name": "stderr",
          "text": [
            "Epoch 6/7: 100%|\u001b[32m██████████\u001b[0m| 229/229 [04:04<00:00,  1.07s/batch, Loss=8.7e-6]\n"
          ]
        },
        {
          "output_type": "stream",
          "name": "stdout",
          "text": [
            "Epoch 6/7, Loss: 0.0025\n"
          ]
        },
        {
          "output_type": "stream",
          "name": "stderr",
          "text": [
            "Epoch 7/7: 100%|\u001b[32m██████████\u001b[0m| 229/229 [04:06<00:00,  1.07s/batch, Loss=4.26e-6]"
          ]
        },
        {
          "output_type": "stream",
          "name": "stdout",
          "text": [
            "Epoch 7/7, Loss: 0.0057\n"
          ]
        },
        {
          "output_type": "stream",
          "name": "stderr",
          "text": [
            "\n"
          ]
        }
      ]
    },
    {
      "cell_type": "code",
      "source": [
        "correct = 0\n",
        "total = 0\n",
        "TP = 0\n",
        "FP = 0\n",
        "FN = 0\n",
        "TN = 0\n",
        "\n",
        "with torch.no_grad():\n",
        "    for inputs, labels in test_loader:\n",
        "        inputs, labels = inputs.to(device), labels.to(device)\n",
        "        outputs = vgg16(inputs)\n",
        "        _, predicted = torch.max(outputs, 1)\n",
        "        total += labels.size(0)\n",
        "        correct += (predicted == labels).sum().item()\n",
        "\n",
        "        # Kesinlik ve Duyarlılık için TP, FP ve FN değerlerini hesapla\n",
        "        TP += ((predicted == labels) & (labels == 1)).sum().item()\n",
        "        FP += ((predicted != labels) & (labels == 0)).sum().item()\n",
        "        FN += ((predicted != labels) & (labels == 1)).sum().item()\n",
        "        TN += ((predicted == labels) & (labels == 0)).sum().item()\n",
        "\n",
        "\n",
        "accuracy = correct / total\n",
        "\n",
        "# Kesinlik (Precision) hesapla\n",
        "precision = TP / (TP + FP)\n",
        "\n",
        "# Duyarlılık (Recall) hesapla\n",
        "recall = TP / (TP + FN)\n",
        "\n",
        "# F1-Skoru hesapla\n",
        "f1_score = 2 * (precision * recall) / (precision + recall)\n",
        "\n",
        "print(f\"Test Accuracy: {accuracy:.4f}\")\n",
        "print(f\"Precision: {precision:.4f}\")\n",
        "print(f\"Recall: {recall:.4f}\")\n",
        "print(f\"F1-Score: {f1_score:.4f}\")\n",
        "\n",
        "print(f\"TP: {TP:.4f}\")\n",
        "print(f\"FP: {FP:.4f}\")\n",
        "print(f\"FN: {FN:.4f}\")\n",
        "print(f\"TN: {TN:.4f}\")\n",
        "\n"
      ],
      "metadata": {
        "colab": {
          "base_uri": "https://localhost:8080/"
        },
        "id": "zFXHfyjIx6zM",
        "outputId": "2eed06f1-4fac-4003-ce72-4fd6438c78f2"
      },
      "execution_count": 8,
      "outputs": [
        {
          "output_type": "stream",
          "name": "stdout",
          "text": [
            "Test Accuracy: 0.9823\n",
            "Precision: 0.9747\n",
            "Recall: 0.9974\n",
            "F1-Score: 0.9859\n",
            "TP: 385.0000\n",
            "FP: 10.0000\n",
            "FN: 1.0000\n",
            "TN: 224.0000\n"
          ]
        }
      ]
    }
  ]
}