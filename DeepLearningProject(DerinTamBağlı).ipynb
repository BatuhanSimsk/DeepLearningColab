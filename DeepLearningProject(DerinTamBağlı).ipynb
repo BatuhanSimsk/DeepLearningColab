{
  "cells": [
    {
      "cell_type": "code",
      "execution_count": 1,
      "metadata": {
        "colab": {
          "base_uri": "https://localhost:8080/"
        },
        "id": "BUdk1MwRm9Pa",
        "outputId": "b8fde560-0509-478a-f560-5556db19a50e"
      },
      "outputs": [
        {
          "output_type": "stream",
          "name": "stdout",
          "text": [
            "Warning: Looks like you're using an outdated API Version, please consider updating (server 1.6.14 / client 1.6.12)\n",
            "Dataset URL: https://www.kaggle.com/datasets/tawsifurrahman/covid19-radiography-database\n",
            "License(s): copyright-authors\n",
            "Downloading covid19-radiography-database.zip to /content\n",
            "100% 775M/778M [00:19<00:00, 43.4MB/s]\n",
            "100% 778M/778M [00:19<00:00, 42.1MB/s]\n"
          ]
        }
      ],
      "source": [
        "!kaggle datasets download -d tawsifurrahman/covid19-radiography-database"
      ]
    },
    {
      "cell_type": "code",
      "execution_count": 2,
      "metadata": {
        "id": "hhq3oH7Gm9Pd"
      },
      "outputs": [],
      "source": [
        "import torch\n",
        "import torch.nn as nn\n",
        "import torch.optim as optim\n",
        "import torchvision\n",
        "from torchvision import datasets, transforms\n",
        "from torch.utils.data import DataLoader\n",
        "import zipfile\n",
        "\n"
      ]
    },
    {
      "cell_type": "code",
      "execution_count": 3,
      "metadata": {
        "id": "s3k3PMdCm9Pf"
      },
      "outputs": [],
      "source": [
        "# ZIP dosyasının yolu\n",
        "zip_file_path = '/content/covid19-radiography-database.zip'\n",
        "\n",
        "# Çıkartılacak hedef klasör\n",
        "extracted_folder_path = '/content/'\n",
        "\n",
        "# ZIP dosyasını aç\n",
        "with zipfile.ZipFile(zip_file_path, 'r') as zip_ref:\n",
        "    zip_ref.extractall(extracted_folder_path)\n",
        "\n"
      ]
    },
    {
      "cell_type": "code",
      "source": [
        "import os\n",
        "import shutil\n",
        "import numpy as np\n",
        "from sklearn.model_selection import train_test_split\n",
        "\n",
        "data_dir = '/content/COVID-19_Radiography_Dataset'\n",
        "\n",
        "train_dir = '/content/TrainTemp'\n",
        "test_dir = '/content/Test'\n",
        "\n",
        "classes = ['COVID', 'Normal', 'Viral Pneumonia']\n",
        "\n",
        "os.makedirs(train_dir, exist_ok=True)\n",
        "os.makedirs(test_dir, exist_ok=True)\n",
        "\n",
        "# Her sınıf için eğitim ve test dizinlerini oluştur\n",
        "for cls in classes:\n",
        "    os.makedirs(os.path.join(train_dir, cls), exist_ok=True)\n",
        "    os.makedirs(os.path.join(test_dir, cls), exist_ok=True)\n",
        "\n",
        "# Her sınıf için görsel dosyalarını eğitim ve test dizinlerine kopyala\n",
        "for cls in classes:\n",
        "    cls_dir = os.path.join(data_dir, cls, 'images')\n",
        "    images = os.listdir(cls_dir)\n",
        "    train_images, test_images = train_test_split(images, test_size=0.2, random_state=99)\n",
        "\n",
        "    for img in train_images:\n",
        "        src = os.path.join(cls_dir, img)\n",
        "        dst = os.path.join(train_dir, cls, img)\n",
        "        shutil.copy(src, dst)\n",
        "\n",
        "    for img in test_images:\n",
        "        src = os.path.join(cls_dir, img)\n",
        "        dst = os.path.join(test_dir, cls, img)\n",
        "        shutil.copy(src, dst)"
      ],
      "metadata": {
        "id": "TudBl0FinPqP"
      },
      "execution_count": 4,
      "outputs": []
    },
    {
      "cell_type": "code",
      "source": [
        "import os\n",
        "import shutil\n",
        "from sklearn.model_selection import train_test_split\n",
        "\n",
        "train_dir = '/content/TrainTemp'\n",
        "\n",
        "train_data_dir = '/content/Train'\n",
        "validation_data_dir = '/content/Validation'\n",
        "test_data_dir = '/content/Test'  # Test veri setinin bulunduğu dizin\n",
        "\n",
        "os.makedirs(train_data_dir, exist_ok=True)\n",
        "os.makedirs(validation_data_dir, exist_ok=True)\n",
        "\n",
        "classes = ['COVID', 'Normal', 'Viral Pneumonia']\n",
        "\n",
        "# Her sınıf için eğitim ve doğrulama dizinlerini oluştur\n",
        "for cls in classes:\n",
        "    os.makedirs(os.path.join(train_data_dir, cls), exist_ok=True)\n",
        "    os.makedirs(os.path.join(validation_data_dir, cls), exist_ok=True)\n",
        "\n",
        "# Her sınıf için eğitim verisini eğitim ve doğrulama setlerine ayır\n",
        "for cls in classes:\n",
        "    cls_dir = os.path.join(train_dir, cls)\n",
        "    train_images = os.listdir(cls_dir)\n",
        "    train_images, validation_images = train_test_split(train_images, test_size=0.125, random_state=99)\n",
        "\n",
        "    for img in train_images:\n",
        "        src = os.path.join(cls_dir, img)\n",
        "        dst = os.path.join(train_data_dir, cls, img)\n",
        "        shutil.copy(src, dst)\n",
        "\n",
        "    for img in validation_images:\n",
        "        src = os.path.join(cls_dir, img)\n",
        "        dst = os.path.join(validation_data_dir, cls, img)\n",
        "        shutil.copy(src, dst)\n",
        "\n",
        "\n",
        "import shutil\n",
        "\n",
        "shutil.rmtree(\"/content/TrainTemp\")"
      ],
      "metadata": {
        "id": "V9wjC63cnQ-b"
      },
      "execution_count": 5,
      "outputs": []
    },
    {
      "cell_type": "code",
      "execution_count": 6,
      "metadata": {
        "id": "rm845Zvmm9Pg"
      },
      "outputs": [],
      "source": [
        "# Veri setinin dizini\n",
        "data_dir = \"/content\"\n",
        "\n",
        "# Veri ön işleme ve artırma\n",
        "data_transforms = transforms.Compose([\n",
        "    transforms.Resize((224, 224)),\n",
        "    transforms.ToTensor(),\n",
        "])\n",
        "\n",
        "# Veri yükleyicileri oluşturma\n",
        "train_dataset = datasets.ImageFolder(root=data_dir + '/Train', transform=data_transforms)\n",
        "train_loader = DataLoader(train_dataset, batch_size=32, shuffle=True)\n",
        "\n",
        "test_dataset = datasets.ImageFolder(root=data_dir + '/Test', transform=data_transforms)\n",
        "test_loader = DataLoader(test_dataset, batch_size=32, shuffle=False)\n",
        "\n",
        "\n"
      ]
    },
    {
      "cell_type": "code",
      "execution_count": 7,
      "metadata": {
        "id": "0RSRwZh2m9Ph"
      },
      "outputs": [],
      "source": [
        "class DeepFCN(nn.Module):\n",
        "    def __init__(self, input_size, hidden_sizes, num_classes):\n",
        "        super(DeepFCN, self).__init__()\n",
        "        self.fc_layers = nn.ModuleList()\n",
        "\n",
        "        # İlk gizli katman\n",
        "        self.fc_layers.append(nn.Linear(input_size, hidden_sizes[0]))\n",
        "        self.fc_layers.append(nn.ReLU())\n",
        "\n",
        "        # Ara gizli katmanlar\n",
        "        for i in range(1, len(hidden_sizes)):\n",
        "            self.fc_layers.append(nn.Linear(hidden_sizes[i-1], hidden_sizes[i]))\n",
        "            self.fc_layers.append(nn.ReLU())\n",
        "\n",
        "        # Çıkış katmanı\n",
        "        self.fc_layers.append(nn.Linear(hidden_sizes[-1], num_classes))\n",
        "\n",
        "    def forward(self, x):\n",
        "        x = x.view(x.size(0), -1)  # Düzleştirme\n",
        "        for layer in self.fc_layers:\n",
        "            x = layer(x)\n",
        "        return x\n",
        "\n"
      ]
    },
    {
      "cell_type": "code",
      "execution_count": 8,
      "metadata": {
        "id": "BFQhRFB0m9Pi"
      },
      "outputs": [],
      "source": [
        "# Model parametreleri\n",
        "input_size = 224 * 224 * 3  # Resim boyutu 224x224 ve 3 kanal (RGB)\n",
        "hidden_sizes = [512, 256, 128]  # Gizli katman boyutları\n",
        "num_classes = len(train_dataset.classes)\n",
        "\n",
        "# Modeli oluştur\n",
        "model = DeepFCN(input_size, hidden_sizes, num_classes)\n",
        "\n",
        "# Eğitim için CUDA kullanılabilirse GPU'ya taşıma\n",
        "device = torch.device(\"cuda\" if torch.cuda.is_available() else \"cpu\")\n",
        "model = model.to(device)\n",
        "\n",
        "optimizer = optim.SGD(model.parameters(), lr=0.001, momentum=0.9)\n",
        "criterion = nn.CrossEntropyLoss()\n",
        "\n"
      ]
    },
    {
      "cell_type": "code",
      "execution_count": 9,
      "metadata": {
        "colab": {
          "base_uri": "https://localhost:8080/"
        },
        "id": "YXIFTG_jm9Pj",
        "outputId": "803284da-c3a3-4dab-e5ea-c4dc3bf250f5"
      },
      "outputs": [
        {
          "output_type": "stream",
          "name": "stderr",
          "text": [
            "Epoch 1/3: 100%|\u001b[32m██████████\u001b[0m| 332/332 [00:48<00:00,  6.85batch/s, Loss=0.428]\n"
          ]
        },
        {
          "output_type": "stream",
          "name": "stdout",
          "text": [
            "Epoch 1/3, Loss: 0.6160\n"
          ]
        },
        {
          "output_type": "stream",
          "name": "stderr",
          "text": [
            "Epoch 2/3: 100%|\u001b[32m██████████\u001b[0m| 332/332 [00:49<00:00,  6.77batch/s, Loss=0.466]\n"
          ]
        },
        {
          "output_type": "stream",
          "name": "stdout",
          "text": [
            "Epoch 2/3, Loss: 0.4875\n"
          ]
        },
        {
          "output_type": "stream",
          "name": "stderr",
          "text": [
            "Epoch 3/3: 100%|\u001b[32m██████████\u001b[0m| 332/332 [00:47<00:00,  6.95batch/s, Loss=0.497]"
          ]
        },
        {
          "output_type": "stream",
          "name": "stdout",
          "text": [
            "Epoch 3/3, Loss: 0.4390\n"
          ]
        },
        {
          "output_type": "stream",
          "name": "stderr",
          "text": [
            "\n"
          ]
        }
      ],
      "source": [
        "from tqdm import tqdm\n",
        "\n",
        "# Epoch sayısını 1 olarak ayarlama\n",
        "epochs = 3\n",
        "for epoch in range(epochs):\n",
        "    running_loss = 0.0\n",
        "    progress_bar = tqdm(enumerate(train_loader), total=len(train_loader), desc=f\"Epoch {epoch+1}/{epochs}\", unit=\"batch\", colour='green', leave=True)\n",
        "    for batch_idx, (inputs, labels) in progress_bar:\n",
        "        inputs, labels = inputs.to(device), labels.to(device)\n",
        "\n",
        "        # Gradientleri sıfırlama\n",
        "        optimizer.zero_grad()\n",
        "\n",
        "        # Forward pass\n",
        "        outputs = model(inputs)\n",
        "        loss = criterion(outputs, labels)\n",
        "\n",
        "        # Backward pass ve optimizasyon\n",
        "        loss.backward()\n",
        "        optimizer.step()\n",
        "\n",
        "        running_loss += loss.item() * inputs.size(0)\n",
        "\n",
        "        progress_bar.set_postfix({'Loss': loss.item()})\n",
        "\n",
        "    epoch_loss = running_loss / len(train_dataset)\n",
        "    print(f\"Epoch {epoch+1}/{epochs}, Loss: {epoch_loss:.4f}\")\n",
        "\n"
      ]
    },
    {
      "cell_type": "code",
      "execution_count": 10,
      "metadata": {
        "colab": {
          "base_uri": "https://localhost:8080/"
        },
        "id": "2gXo12LYm9Pj",
        "outputId": "f43ff973-e45d-4bf2-a18c-54d87d885e65"
      },
      "outputs": [
        {
          "output_type": "stream",
          "name": "stdout",
          "text": [
            "Test Accuracy: 0.7925\n",
            "Precision: 0.8159\n",
            "Recall: 0.9691\n",
            "F1-Score: 0.8859\n",
            "TP: 1976\n",
            "FP: 446\n",
            "FN: 63\n",
            "TN: 278\n"
          ]
        }
      ],
      "source": [
        "correct = 0\n",
        "total = 0\n",
        "TP = 0\n",
        "FP = 0\n",
        "FN = 0\n",
        "TN = 0\n",
        "\n",
        "with torch.no_grad():\n",
        "    for inputs, labels in test_loader:\n",
        "        inputs, labels = inputs.to(device), labels.to(device)\n",
        "        outputs = model(inputs)\n",
        "        _, predicted = torch.max(outputs, 1)\n",
        "        total += labels.size(0)\n",
        "        correct += (predicted == labels).sum().item()\n",
        "\n",
        "        # Kesinlik ve Duyarlılık için TP, FP, FN ve TN değerlerini hesapla\n",
        "        TP += ((predicted == labels) & (labels == 1)).sum().item()\n",
        "        FP += ((predicted != labels) & (labels == 0)).sum().item()\n",
        "        FN += ((predicted != labels) & (labels == 1)).sum().item()\n",
        "        TN += ((predicted == labels) & (labels == 0)).sum().item()\n",
        "\n",
        "# Doğruluk (Accuracy) hesapla\n",
        "accuracy = correct / total\n",
        "\n",
        "# Kesinlik (Precision) hesapla\n",
        "precision = TP / (TP + FP) if (TP + FP) != 0 else 0\n",
        "\n",
        "# Duyarlılık (Recall) hesapla\n",
        "recall = TP / (TP + FN) if (TP + FN) != 0 else 0\n",
        "\n",
        "# F1-Skoru hesapla\n",
        "f1_score = 2 * (precision * recall) / (precision + recall) if (precision + recall) != 0 else 0\n",
        "\n",
        "print(f\"Test Accuracy: {accuracy:.4f}\")\n",
        "print(f\"Precision: {precision:.4f}\")\n",
        "print(f\"Recall: {recall:.4f}\")\n",
        "print(f\"F1-Score: {f1_score:.4f}\")\n",
        "\n",
        "print(f\"TP: {TP}\")\n",
        "print(f\"FP: {FP}\")\n",
        "print(f\"FN: {FN}\")\n",
        "print(f\"TN: {TN}\")"
      ]
    }
  ],
  "metadata": {
    "language_info": {
      "name": "python"
    },
    "colab": {
      "provenance": [],
      "gpuType": "T4"
    },
    "accelerator": "GPU",
    "kernelspec": {
      "name": "python3",
      "display_name": "Python 3"
    }
  },
  "nbformat": 4,
  "nbformat_minor": 0
}