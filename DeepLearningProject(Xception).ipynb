{
 "cells": [
  {
   "cell_type": "code",
   "execution_count": null,
   "metadata": {},
   "outputs": [],
   "source": [
    "!kaggle datasets download -d vivek468/beginner-chest-xray-image-classification"
   ]
  },
  {
   "cell_type": "code",
   "execution_count": null,
   "metadata": {},
   "outputs": [],
   "source": [
    "import torch\n",
    "import torch.nn as nn\n",
    "import torch.optim as optim\n",
    "from torchvision import datasets, transforms\n",
    "from torch.utils.data import DataLoader\n",
    "import zipfile\n",
    "\n"
   ]
  },
  {
   "cell_type": "code",
   "execution_count": null,
   "metadata": {},
   "outputs": [],
   "source": [
    "# ZIP dosyasının yolu\n",
    "zip_file_path = '/content/beginner-chest-xray-image-classification.zip'\n",
    "\n",
    "# Çıkartılacak hedef klasör\n",
    "extracted_folder_path = '/content/'\n",
    "\n",
    "# ZIP dosyasını aç\n",
    "with zipfile.ZipFile(zip_file_path, 'r') as zip_ref:\n",
    "    zip_ref.extractall(extracted_folder_path)\n",
    "\n",
    "\n"
   ]
  },
  {
   "cell_type": "code",
   "execution_count": null,
   "metadata": {},
   "outputs": [],
   "source": [
    "# Veri setinin dizini\n",
    "data_dir = \"/content/chest_xray\"\n",
    "\n",
    "# Veri ön işleme ve artırma\n",
    "data_transforms = transforms.Compose([\n",
    "    transforms.Resize((299, 299)),\n",
    "    transforms.ToTensor(),\n",
    "])\n",
    "\n",
    "# Veri yükleyicileri oluşturma\n",
    "train_dataset = datasets.ImageFolder(root=data_dir + '/train', transform=data_transforms)\n",
    "train_loader = DataLoader(train_dataset, batch_size=4, shuffle=True, num_workers=4)\n",
    "\n",
    "test_dataset = datasets.ImageFolder(root=data_dir + '/test', transform=data_transforms)\n",
    "test_loader = DataLoader(test_dataset, batch_size=4, shuffle=False, num_workers=4)\n",
    "\n"
   ]
  },
  {
   "cell_type": "code",
   "execution_count": null,
   "metadata": {},
   "outputs": [],
   "source": [
    "!pip install timm\n",
    "\n",
    "import timm\n",
    "\n",
    "# Xception modelini yükleme\n",
    "xception_model = timm.create_model('xception', pretrained=True)\n",
    "\n",
    "# Son fully connected layer'ı değiştirme\n",
    "num_ftrs = xception_model.get_classifier().in_features\n",
    "xception_model.fc = nn.Linear(num_ftrs, len(train_dataset.classes))\n",
    "\n",
    "# Eğitim için CUDA kullanılabilirse GPU'ya taşıma\n",
    "device = torch.device(\"cuda\" if torch.cuda.is_available() else \"cpu\")\n",
    "xception_model = xception_model.to(device)\n",
    "\n",
    "optimizer = optim.SGD(xception_model.parameters(), lr=0.001, momentum=0.9)\n",
    "criterion = nn.CrossEntropyLoss()\n",
    "\n"
   ]
  },
  {
   "cell_type": "code",
   "execution_count": null,
   "metadata": {},
   "outputs": [],
   "source": [
    "from tqdm import tqdm\n",
    "\n",
    "epochs = 1\n",
    "for epoch in range(epochs):\n",
    "    running_loss = 0.0\n",
    "    progress_bar = tqdm(enumerate(train_loader), total=len(train_loader), desc=f\"Epoch {epoch+1}/{epochs}\", unit=\"batch\", colour='green', leave=True)\n",
    "    for batch_idx, (inputs, labels) in progress_bar:\n",
    "        inputs, labels = inputs.to(device), labels.to(device)\n",
    "\n",
    "        # Gradientleri sıfırlama\n",
    "        optimizer.zero_grad()\n",
    "\n",
    "        # Forward pass\n",
    "        outputs = xception_model(inputs)\n",
    "        loss = criterion(outputs, labels)\n",
    "\n",
    "        # Backward pass ve optimizasyon\n",
    "        loss.backward()\n",
    "        optimizer.step()\n",
    "\n",
    "        running_loss += loss.item() * inputs.size(0)\n",
    "\n",
    "        progress_bar.set_postfix({'Loss': loss.item()})\n",
    "\n",
    "    epoch_loss = running_loss / len(train_dataset)\n",
    "    print(f\"Epoch {epoch+1}/{epochs}, Loss: {epoch_loss:.4f}\")\n",
    "\n"
   ]
  },
  {
   "cell_type": "code",
   "execution_count": null,
   "metadata": {},
   "outputs": [],
   "source": [
    "correct = 0\n",
    "total = 0\n",
    "TP = 0\n",
    "FP = 0\n",
    "FN = 0\n",
    "TN = 0\n",
    "\n",
    "with torch.no_grad():\n",
    "    for inputs, labels in test_loader:\n",
    "        inputs, labels = inputs.to(device), labels.to(device)\n",
    "        outputs = xception_model(inputs)\n",
    "        _, predicted = torch.max(outputs, 1)\n",
    "        total += labels.size(0)\n",
    "        correct += (predicted == labels).sum().item()\n",
    "\n",
    "        # Kesinlik ve Duyarlılık için TP, FP, FN ve TN değerlerini hesapla\n",
    "        TP += ((predicted == labels) & (labels == 1)).sum().item()\n",
    "        FP += ((predicted != labels) & (labels == 0)).sum().item()\n",
    "        FN += ((predicted != labels) & (labels == 1)).sum().item()\n",
    "        TN += ((predicted == labels) & (labels == 0)).sum().item()\n",
    "\n",
    "# Doğruluk (Accuracy) hesapla\n",
    "accuracy = correct / total\n",
    "\n",
    "# Kesinlik (Precision) hesapla\n",
    "precision = TP / (TP + FP) if (TP + FP) != 0 else 0\n",
    "\n",
    "# Duyarlılık (Recall) hesapla\n",
    "recall = TP / (TP + FN) if (TP + FN) != 0 else 0\n",
    "\n",
    "# F1-Skoru hesapla\n",
    "f1_score = 2 * (precision * recall) / (precision + recall) if (precision + recall) != 0 else 0\n",
    "\n",
    "print(f\"Test Accuracy: {accuracy:.4f}\")\n",
    "print(f\"Precision: {precision:.4f}\")\n",
    "print(f\"Recall: {recall:.4f}\")\n",
    "print(f\"F1-Score: {f1_score:.4f}\")\n",
    "\n",
    "print(f\"TP: {TP}\")\n",
    "print(f\"FP: {FP}\")\n",
    "print(f\"FN: {FN}\")\n",
    "print(f\"TN: {TN}\")"
   ]
  }
 ],
 "metadata": {
  "language_info": {
   "name": "python"
  }
 },
 "nbformat": 4,
 "nbformat_minor": 2
}
