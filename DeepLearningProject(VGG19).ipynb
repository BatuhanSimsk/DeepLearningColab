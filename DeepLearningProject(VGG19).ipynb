{
  "cells": [
    {
      "cell_type": "code",
      "execution_count": 1,
      "metadata": {
        "colab": {
          "base_uri": "https://localhost:8080/"
        },
        "id": "y53-zNkHqP_t",
        "outputId": "3acd799a-9b97-46f5-bc87-5ed7caa4c8e9"
      },
      "outputs": [
        {
          "name": "stdout",
          "output_type": "stream",
          "text": [
            "Dataset URL: https://www.kaggle.com/datasets/vivek468/beginner-chest-xray-image-classification\n",
            "License(s): other\n",
            "Downloading beginner-chest-xray-image-classification.zip to /content\n",
            "100% 2.08G/2.08G [01:50<00:00, 20.8MB/s]\n",
            "100% 2.08G/2.08G [01:50<00:00, 20.1MB/s]\n"
          ]
        }
      ],
      "source": [
        "!kaggle datasets download -d tawsifurrahman/covid19-radiography-database"
      ]
    },
    {
      "cell_type": "code",
      "execution_count": 2,
      "metadata": {
        "id": "i9pHzT3EuFwd"
      },
      "outputs": [],
      "source": [
        "import zipfile\n",
        "\n",
        "# ZIP dosyasının yolu\n",
        "zip_file_path = '/content/covid19-radiography-database.zip'\n",
        "\n",
        "# Çıkartılacak hedef klasör\n",
        "extracted_folder_path = '/content/'\n",
        "\n",
        "# ZIP dosyasını aç\n",
        "with zipfile.ZipFile(zip_file_path, 'r') as zip_ref:\n",
        "    zip_ref.extractall(extracted_folder_path)"
      ]
    },
    {
      "cell_type": "code",
      "execution_count": null,
      "metadata": {},
      "outputs": [],
      "source": [
        "import os\n",
        "import shutil\n",
        "import numpy as np\n",
        "from sklearn.model_selection import train_test_split\n",
        "\n",
        "data_dir = '/content/COVID-19_Radiography_Dataset'\n",
        "\n",
        "train_dir = '/content/TrainTemp'\n",
        "test_dir = '/content/Test'\n",
        "\n",
        "classes = ['COVID', 'Normal', 'Viral Pneumonia']\n",
        "\n",
        "os.makedirs(train_dir, exist_ok=True)\n",
        "os.makedirs(test_dir, exist_ok=True)\n",
        "\n",
        "# Her sınıf için eğitim ve test dizinlerini oluştur\n",
        "for cls in classes:\n",
        "    os.makedirs(os.path.join(train_dir, cls), exist_ok=True)\n",
        "    os.makedirs(os.path.join(test_dir, cls), exist_ok=True)\n",
        "\n",
        "# Her sınıf için görsel dosyalarını eğitim ve test dizinlerine kopyala\n",
        "for cls in classes:\n",
        "    cls_dir = os.path.join(data_dir, cls, 'images')\n",
        "    images = os.listdir(cls_dir)\n",
        "    train_images, test_images = train_test_split(images, test_size=0.2, random_state=99)\n",
        "\n",
        "    for img in train_images:\n",
        "        src = os.path.join(cls_dir, img)\n",
        "        dst = os.path.join(train_dir, cls, img)\n",
        "        shutil.copy(src, dst)\n",
        "\n",
        "    for img in test_images:\n",
        "        src = os.path.join(cls_dir, img)\n",
        "        dst = os.path.join(test_dir, cls, img)\n",
        "        shutil.copy(src, dst)\n"
      ]
    },
    {
      "cell_type": "code",
      "execution_count": null,
      "metadata": {},
      "outputs": [],
      "source": [
        "import os\n",
        "import shutil\n",
        "from sklearn.model_selection import train_test_split\n",
        "\n",
        "train_dir = '/content/TrainTemp'\n",
        "\n",
        "train_data_dir = '/content/Train'\n",
        "validation_data_dir = '/content/Validation'\n",
        "\n",
        "os.makedirs(train_data_dir, exist_ok=True)\n",
        "os.makedirs(validation_data_dir, exist_ok=True)\n",
        "\n",
        "classes = ['COVID', 'Normal', 'Viral Pneumonia']\n",
        "\n",
        "# Her sınıf için eğitim ve doğrulama dizinlerini oluştur\n",
        "for cls in classes:\n",
        "    os.makedirs(os.path.join(train_data_dir, cls), exist_ok=True)\n",
        "    os.makedirs(os.path.join(validation_data_dir, cls), exist_ok=True)\n",
        "\n",
        "# Her sınıf için eğitim verisini eğitim ve doğrulama setlerine ayır\n",
        "for cls in classes:\n",
        "    cls_dir = os.path.join(train_dir, cls)\n",
        "    train_images = os.listdir(cls_dir)\n",
        "    train_images, validation_images = train_test_split(train_images, test_size=0.125, random_state=99)\n",
        "\n",
        "    for img in train_images:\n",
        "        src = os.path.join(cls_dir, img)\n",
        "        dst = os.path.join(train_data_dir, cls, img)\n",
        "        shutil.copy(src, dst)\n",
        "\n",
        "    for img in validation_images:\n",
        "        src = os.path.join(cls_dir, img)\n",
        "        dst = os.path.join(validation_data_dir, cls, img)\n",
        "        shutil.copy(src, dst)\n",
        "\n",
        "\n",
        "import shutil\n",
        "\n",
        "shutil.rmtree(\"/content/TrainTemp\")"
      ]
    },
    {
      "cell_type": "code",
      "execution_count": 3,
      "metadata": {
        "id": "wqbrv50KwtpU"
      },
      "outputs": [],
      "source": [
        "import torch\n",
        "from torchvision import datasets, transforms\n",
        "from torch.utils.data import DataLoader\n",
        "\n",
        "# Veri setinin dizini\n",
        "data_dir = \"/content\"\n",
        "\n",
        "# Veri ön işleme ve artırma\n",
        "data_transforms = transforms.Compose([\n",
        "    transforms.Resize((224, 224)),\n",
        "    transforms.ToTensor()\n",
        "])\n",
        "\n",
        "# Veri yükleyicileri oluşturma\n",
        "train_dataset = datasets.ImageFolder(root=data_dir + '/Train', transform=data_transforms)\n",
        "train_loader = DataLoader(train_dataset, batch_size=32, shuffle=True)\n",
        "\n",
        "test_dataset = datasets.ImageFolder(root=data_dir + '/Test', transform=data_transforms)\n",
        "test_loader = DataLoader(test_dataset, batch_size=32, shuffle=False)"
      ]
    },
    {
      "cell_type": "code",
      "execution_count": 9,
      "metadata": {
        "colab": {
          "base_uri": "https://localhost:8080/"
        },
        "id": "4LVFoDpYxwAQ",
        "outputId": "43b864b6-4ae5-45aa-cc2c-adecc9b05c25"
      },
      "outputs": [
        {
          "name": "stderr",
          "output_type": "stream",
          "text": [
            "/usr/local/lib/python3.10/dist-packages/torchvision/models/_utils.py:208: UserWarning: The parameter 'pretrained' is deprecated since 0.13 and may be removed in the future, please use 'weights' instead.\n",
            "  warnings.warn(\n",
            "/usr/local/lib/python3.10/dist-packages/torchvision/models/_utils.py:223: UserWarning: Arguments other than a weight enum or `None` for 'weights' are deprecated since 0.13 and may be removed in the future. The current behavior is equivalent to passing `weights=VGG19_Weights.IMAGENET1K_V1`. You can also use `weights=VGG19_Weights.DEFAULT` to get the most up-to-date weights.\n",
            "  warnings.warn(msg)\n",
            "Downloading: \"https://download.pytorch.org/models/vgg19-dcbb9e9d.pth\" to /root/.cache/torch/hub/checkpoints/vgg19-dcbb9e9d.pth\n",
            "100%|██████████| 548M/548M [00:05<00:00, 98.4MB/s]\n"
          ]
        }
      ],
      "source": [
        "import torch.nn as nn\n",
        "import torchvision.models as models\n",
        "\n",
        "# VGG19 modelini yükleme\n",
        "vgg19 = models.vgg19(pretrained=True)\n",
        "\n",
        "# Son fully connected layer'ı değiştirme\n",
        "num_ftrs = vgg19.classifier[6].in_features\n",
        "vgg19.classifier[6] = nn.Linear(num_ftrs, len(train_dataset.classes))\n",
        "\n",
        "# Eğitim için CUDA kullanılabilirse GPU'ya taşıma ve DataParallel kullanarak sarmalama\n",
        "device = torch.device(\"cuda\" if torch.cuda.is_available() else \"cpu\")\n",
        "vgg19 = nn.DataParallel(vgg19)  # DataParallel ile modeli sarmalama\n",
        "vgg19 = vgg19.to(device)"
      ]
    },
    {
      "cell_type": "code",
      "execution_count": 10,
      "metadata": {
        "colab": {
          "base_uri": "https://localhost:8080/"
        },
        "id": "7iNuryjOx34J",
        "outputId": "d6b2790d-484e-498e-a59a-e0cdeff6fce3"
      },
      "outputs": [
        {
          "name": "stderr",
          "output_type": "stream",
          "text": [
            "Epoch 1/3: 100%|\u001b[32m██████████\u001b[0m| 229/229 [04:20<00:00,  1.14s/batch, Loss=0.284]\n"
          ]
        },
        {
          "name": "stdout",
          "output_type": "stream",
          "text": [
            "Epoch 1/3, Loss: 0.1817\n"
          ]
        },
        {
          "name": "stderr",
          "output_type": "stream",
          "text": [
            "Epoch 2/3: 100%|\u001b[32m██████████\u001b[0m| 229/229 [04:22<00:00,  1.15s/batch, Loss=0.0443]\n"
          ]
        },
        {
          "name": "stdout",
          "output_type": "stream",
          "text": [
            "Epoch 2/3, Loss: 0.0893\n"
          ]
        },
        {
          "name": "stderr",
          "output_type": "stream",
          "text": [
            "Epoch 3/3: 100%|\u001b[32m██████████\u001b[0m| 229/229 [04:22<00:00,  1.15s/batch, Loss=0.0795]"
          ]
        },
        {
          "name": "stdout",
          "output_type": "stream",
          "text": [
            "Epoch 3/3, Loss: 0.0617\n"
          ]
        },
        {
          "name": "stderr",
          "output_type": "stream",
          "text": [
            "\n"
          ]
        }
      ],
      "source": [
        "import torch.optim as optim\n",
        "import torch.nn.functional as F\n",
        "\n",
        "# Optimizasyon algoritması ve kayıp fonksiyonu\n",
        "optimizer = optim.SGD(vgg19.parameters(), lr=0.001, momentum=0.9)\n",
        "criterion = nn.CrossEntropyLoss()\n",
        "\n",
        "# Eğitim döngüsü\n",
        "from tqdm import tqdm\n",
        "\n",
        "epochs = 1\n",
        "for epoch in range(epochs):\n",
        "    running_loss = 0.0\n",
        "    progress_bar = tqdm(enumerate(train_loader), total=len(train_loader), desc=f\"Epoch {epoch+1}/{epochs}\", unit=\"batch\", colour='green', leave=True)\n",
        "    for batch_idx, (inputs, labels) in progress_bar:\n",
        "        inputs, labels = inputs.to(device), labels.to(device)\n",
        "\n",
        "        # Gradientleri sıfırlama\n",
        "        optimizer.zero_grad()\n",
        "\n",
        "        # Forward pass\n",
        "        outputs = vgg19(inputs)\n",
        "        loss = criterion(outputs, labels)\n",
        "\n",
        "        # Backward pass ve optimizasyon\n",
        "        loss.backward()\n",
        "        optimizer.step()\n",
        "\n",
        "        running_loss += loss.item() * inputs.size(0)\n",
        "\n",
        "        progress_bar.set_postfix({'Loss': loss.item()})\n",
        "\n",
        "    epoch_loss = running_loss / len(train_dataset)\n",
        "    print(f\"Epoch {epoch+1}/{epochs}, Loss: {epoch_loss:.4f}\")"
      ]
    },
    {
      "cell_type": "code",
      "execution_count": 11,
      "metadata": {
        "colab": {
          "base_uri": "https://localhost:8080/"
        },
        "id": "zFXHfyjIx6zM",
        "outputId": "50ca152e-37f8-4f6e-ff56-5313fe2b79a5"
      },
      "outputs": [
        {
          "name": "stdout",
          "output_type": "stream",
          "text": [
            "Test Accuracy: 0.9823\n",
            "Precision: 0.9795\n",
            "Recall: 0.9922\n",
            "F1-Score: 0.9858\n",
            "TP: 383.0000\n",
            "FP: 8.0000\n",
            "FN: 3.0000\n",
            "TN: 226.0000\n"
          ]
        }
      ],
      "source": [
        "correct = 0\n",
        "total = 0\n",
        "TP = 0\n",
        "FP = 0\n",
        "FN = 0\n",
        "TN = 0\n",
        "\n",
        "with torch.no_grad():\n",
        "    for inputs, labels in test_loader:\n",
        "        inputs, labels = inputs.to(device), labels.to(device)\n",
        "        outputs = vgg19(inputs)\n",
        "        _, predicted = torch.max(outputs, 1)\n",
        "        total += labels.size(0)\n",
        "        correct += (predicted == labels).sum().item()\n",
        "\n",
        "        # Kesinlik ve Duyarlılık için TP, FP ve FN değerlerini hesapla\n",
        "        TP += ((predicted == labels) & (labels == 1)).sum().item()\n",
        "        FP += ((predicted != labels) & (labels == 0)).sum().item()\n",
        "        FN += ((predicted != labels) & (labels == 1)).sum().item()\n",
        "        TN += ((predicted == labels) & (labels == 0)).sum().item()\n",
        "\n",
        "\n",
        "accuracy = correct / total\n",
        "\n",
        "# Kesinlik (Precision) hesapla\n",
        "precision = TP / (TP + FP)\n",
        "\n",
        "# Duyarlılık (Recall) hesapla\n",
        "recall = TP / (TP + FN)\n",
        "\n",
        "# F1-Skoru hesapla\n",
        "f1_score = 2 * (precision * recall) / (precision + recall)\n",
        "\n",
        "print(f\"Test Accuracy: {accuracy:.4f}\")\n",
        "print(f\"Precision: {precision:.4f}\")\n",
        "print(f\"Recall: {recall:.4f}\")\n",
        "print(f\"F1-Score: {f1_score:.4f}\")\n",
        "\n",
        "print(f\"TP: {TP:.4f}\")\n",
        "print(f\"FP: {FP:.4f}\")\n",
        "print(f\"FN: {FN:.4f}\")\n",
        "print(f\"TN: {TN:.4f}\")\n",
        "\n"
      ]
    }
  ],
  "metadata": {
    "accelerator": "GPU",
    "colab": {
      "gpuType": "T4",
      "provenance": []
    },
    "kernelspec": {
      "display_name": "Python 3",
      "name": "python3"
    },
    "language_info": {
      "name": "python"
    }
  },
  "nbformat": 4,
  "nbformat_minor": 0
}
