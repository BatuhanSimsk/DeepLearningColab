{
  "cells": [
    {
      "cell_type": "code",
      "execution_count": null,
      "metadata": {
        "colab": {
          "base_uri": "https://localhost:8080/"
        },
        "id": "y53-zNkHqP_t",
        "outputId": "81f8a059-3639-40a4-a3a6-53be98e7c8fa"
      },
      "outputs": [],
      "source": [
        "!kaggle datasets download -d tawsifurrahman/covid19-radiography-database"
      ]
    },
    {
      "cell_type": "code",
      "execution_count": null,
      "metadata": {},
      "outputs": [],
      "source": [
        "import torch\n",
        "import torch.nn as nn\n",
        "import torch.optim as optim\n",
        "from torchvision import datasets, transforms\n",
        "from torch.utils.data import DataLoader\n",
        "import zipfile\n",
        "\n"
      ]
    },
    {
      "cell_type": "code",
      "execution_count": 2,
      "metadata": {
        "id": "i9pHzT3EuFwd"
      },
      "outputs": [],
      "source": [
        "import zipfile\n",
        "\n",
        "# ZIP dosyasının yolu\n",
        "zip_file_path = '/content/covid19-radiography-database.zip'\n",
        "\n",
        "# Çıkartılacak hedef klasör\n",
        "extracted_folder_path = '/content/'\n",
        "\n",
        "# ZIP dosyasını aç\n",
        "with zipfile.ZipFile(zip_file_path, 'r') as zip_ref:\n",
        "    zip_ref.extractall(extracted_folder_path)"
      ]
    },
    {
      "cell_type": "code",
      "execution_count": null,
      "metadata": {},
      "outputs": [],
      "source": [
        "import os\n",
        "import shutil\n",
        "import numpy as np\n",
        "from sklearn.model_selection import train_test_split\n",
        "\n",
        "data_dir = '/content/COVID-19_Radiography_Dataset'\n",
        "\n",
        "train_dir = '/content/TrainTemp'\n",
        "test_dir = '/content/Test'\n",
        "\n",
        "classes = ['COVID', 'Normal', 'Viral Pneumonia']\n",
        "\n",
        "os.makedirs(train_dir, exist_ok=True)\n",
        "os.makedirs(test_dir, exist_ok=True)\n",
        "\n",
        "# Her sınıf için eğitim ve test dizinlerini oluştur\n",
        "for cls in classes:\n",
        "    os.makedirs(os.path.join(train_dir, cls), exist_ok=True)\n",
        "    os.makedirs(os.path.join(test_dir, cls), exist_ok=True)\n",
        "\n",
        "# Her sınıf için görsel dosyalarını eğitim ve test dizinlerine kopyala\n",
        "for cls in classes:\n",
        "    cls_dir = os.path.join(data_dir, cls, 'images')\n",
        "    images = os.listdir(cls_dir)\n",
        "    train_images, test_images = train_test_split(images, test_size=0.2, random_state=99)\n",
        "\n",
        "    for img in train_images:\n",
        "        src = os.path.join(cls_dir, img)\n",
        "        dst = os.path.join(train_dir, cls, img)\n",
        "        shutil.copy(src, dst)\n",
        "\n",
        "    for img in test_images:\n",
        "        src = os.path.join(cls_dir, img)\n",
        "        dst = os.path.join(test_dir, cls, img)\n",
        "        shutil.copy(src, dst)\n"
      ]
    },
    {
      "cell_type": "code",
      "execution_count": null,
      "metadata": {},
      "outputs": [],
      "source": [
        "import os\n",
        "import shutil\n",
        "from sklearn.model_selection import train_test_split\n",
        "\n",
        "train_dir = '/content/TrainTemp'\n",
        "\n",
        "train_data_dir = '/content/Train'\n",
        "validation_data_dir = '/content/Validation'\n",
        "test_data_dir = '/content/Test'  # Test veri setinin bulunduğu dizin\n",
        "\n",
        "os.makedirs(train_data_dir, exist_ok=True)\n",
        "os.makedirs(validation_data_dir, exist_ok=True)\n",
        "\n",
        "classes = ['COVID', 'Normal', 'Viral Pneumonia']\n",
        "\n",
        "# Her sınıf için eğitim ve doğrulama dizinlerini oluştur\n",
        "for cls in classes:\n",
        "    os.makedirs(os.path.join(train_data_dir, cls), exist_ok=True)\n",
        "    os.makedirs(os.path.join(validation_data_dir, cls), exist_ok=True)\n",
        "\n",
        "# Her sınıf için eğitim verisini eğitim ve doğrulama setlerine ayır\n",
        "for cls in classes:\n",
        "    cls_dir = os.path.join(train_dir, cls)\n",
        "    train_images = os.listdir(cls_dir)\n",
        "    train_images, validation_images = train_test_split(train_images, test_size=0.125, random_state=99)\n",
        "\n",
        "    for img in train_images:\n",
        "        src = os.path.join(cls_dir, img)\n",
        "        dst = os.path.join(train_data_dir, cls, img)\n",
        "        shutil.copy(src, dst)\n",
        "\n",
        "    for img in validation_images:\n",
        "        src = os.path.join(cls_dir, img)\n",
        "        dst = os.path.join(validation_data_dir, cls, img)\n",
        "        shutil.copy(src, dst)\n",
        "\n",
        "\n",
        "import shutil\n",
        "\n",
        "shutil.rmtree(\"/content/TrainTemp\")"
      ]
    },
    {
      "cell_type": "code",
      "execution_count": 3,
      "metadata": {
        "id": "wqbrv50KwtpU"
      },
      "outputs": [],
      "source": [
        "\n",
        "\n",
        "# Veri dönüşümleri\n",
        "data_transforms = {\n",
        "    'Train': transforms.Compose([\n",
        "        transforms.RandomResizedCrop(224),\n",
        "        transforms.RandomHorizontalFlip(),\n",
        "        transforms.ToTensor(),\n",
        "        transforms.Normalize([0.485, 0.456, 0.406], [0.229, 0.224, 0.225])\n",
        "    ]),\n",
        "    'Validation': transforms.Compose([\n",
        "        transforms.Resize(256),\n",
        "        transforms.CenterCrop(224),\n",
        "        transforms.ToTensor(),\n",
        "        transforms.Normalize([0.485, 0.456, 0.406], [0.229, 0.224, 0.225])\n",
        "    ]),\n",
        "    'Test': transforms.Compose([\n",
        "        transforms.Resize(256),\n",
        "        transforms.CenterCrop(224),\n",
        "        transforms.ToTensor(),\n",
        "        transforms.Normalize([0.485, 0.456, 0.406], [0.229, 0.224, 0.225])\n",
        "    ]),\n",
        "}\n",
        "\n",
        "image_datasets = {\n",
        "    'Train': datasets.ImageFolder(root=train_data_dir, transform=data_transforms['Train']),\n",
        "    'Validation': datasets.ImageFolder(root=validation_data_dir, transform=data_transforms['Validation']),\n",
        "    'Test': datasets.ImageFolder(root=test_data_dir, transform=data_transforms['Validation'])\n",
        "}\n",
        "\n",
        "dataloaders = {\n",
        "    'Train': DataLoader(image_datasets['Train'], batch_size=32, shuffle=True),\n",
        "    'Validation': DataLoader(image_datasets['Validation'], batch_size=32, shuffle=False),\n",
        "    'Test': DataLoader(image_datasets['Test'], batch_size=32, shuffle=False)\n",
        "}\n"
      ]
    },
    {
      "cell_type": "code",
      "execution_count": 9,
      "metadata": {
        "colab": {
          "base_uri": "https://localhost:8080/"
        },
        "id": "4LVFoDpYxwAQ",
        "outputId": "4a794f63-ad29-40c2-a2cc-abeac5abaf8b"
      },
      "outputs": [
        {
          "name": "stderr",
          "output_type": "stream",
          "text": [
            "/usr/local/lib/python3.10/dist-packages/torchvision/models/_utils.py:208: UserWarning: The parameter 'pretrained' is deprecated since 0.13 and may be removed in the future, please use 'weights' instead.\n",
            "  warnings.warn(\n",
            "/usr/local/lib/python3.10/dist-packages/torchvision/models/_utils.py:223: UserWarning: Arguments other than a weight enum or `None` for 'weights' are deprecated since 0.13 and may be removed in the future. The current behavior is equivalent to passing `weights=AlexNet_Weights.IMAGENET1K_V1`. You can also use `weights=AlexNet_Weights.DEFAULT` to get the most up-to-date weights.\n",
            "  warnings.warn(msg)\n"
          ]
        }
      ],
      "source": [
        "import torch.nn as nn\n",
        "import torchvision.models as models\n",
        "\n",
        "# AlexNet modelini yükleme\n",
        "alexnet = models.alexnet(pretrained=True)\n",
        "\n",
        "# Son fully connected layer'ı değiştirme\n",
        "num_ftrs = alexnet.classifier[6].in_features\n",
        "alexnet.classifier[6] = nn.Linear(num_ftrs, len(image_datasets['Train'].classes))\n",
        "\n",
        "# Eğitim için CUDA kullanılabilirse GPU'ya taşıma ve DataParallel kullanarak sarmalama\n",
        "device = torch.device(\"cuda\" if torch.cuda.is_available() else \"cpu\")\n",
        "alexnet = alexnet.to(device)"
      ]
    },
    {
      "cell_type": "code",
      "execution_count": 10,
      "metadata": {
        "colab": {
          "base_uri": "https://localhost:8080/"
        },
        "id": "7iNuryjOx34J",
        "outputId": "c23cca81-214f-4232-ec91-949269b3e794"
      },
      "outputs": [
        {
          "name": "stderr",
          "output_type": "stream",
          "text": [
            "Epoch 1/15: 100%|\u001b[32m██████████\u001b[0m| 229/229 [02:38<00:00,  1.45batch/s, Loss=0.154]\n"
          ]
        },
        {
          "name": "stdout",
          "output_type": "stream",
          "text": [
            "Epoch 1/15, Loss: 0.1817\n"
          ]
        },
        {
          "name": "stderr",
          "output_type": "stream",
          "text": [
            "Epoch 2/15: 100%|\u001b[32m██████████\u001b[0m| 229/229 [02:37<00:00,  1.45batch/s, Loss=0.263]\n"
          ]
        },
        {
          "name": "stdout",
          "output_type": "stream",
          "text": [
            "Epoch 2/15, Loss: 0.1077\n"
          ]
        },
        {
          "name": "stderr",
          "output_type": "stream",
          "text": [
            "Epoch 3/15: 100%|\u001b[32m██████████\u001b[0m| 229/229 [02:38<00:00,  1.45batch/s, Loss=0.0249]\n"
          ]
        },
        {
          "name": "stdout",
          "output_type": "stream",
          "text": [
            "Epoch 3/15, Loss: 0.0823\n"
          ]
        },
        {
          "name": "stderr",
          "output_type": "stream",
          "text": [
            "Epoch 4/15: 100%|\u001b[32m██████████\u001b[0m| 229/229 [02:37<00:00,  1.46batch/s, Loss=0.0388]\n"
          ]
        },
        {
          "name": "stdout",
          "output_type": "stream",
          "text": [
            "Epoch 4/15, Loss: 0.0606\n"
          ]
        },
        {
          "name": "stderr",
          "output_type": "stream",
          "text": [
            "Epoch 5/15: 100%|\u001b[32m██████████\u001b[0m| 229/229 [02:37<00:00,  1.46batch/s, Loss=0.356]\n"
          ]
        },
        {
          "name": "stdout",
          "output_type": "stream",
          "text": [
            "Epoch 5/15, Loss: 0.0555\n"
          ]
        },
        {
          "name": "stderr",
          "output_type": "stream",
          "text": [
            "Epoch 6/15: 100%|\u001b[32m██████████\u001b[0m| 229/229 [02:37<00:00,  1.45batch/s, Loss=0.0146]\n"
          ]
        },
        {
          "name": "stdout",
          "output_type": "stream",
          "text": [
            "Epoch 6/15, Loss: 0.0503\n"
          ]
        },
        {
          "name": "stderr",
          "output_type": "stream",
          "text": [
            "Epoch 7/15: 100%|\u001b[32m██████████\u001b[0m| 229/229 [02:37<00:00,  1.45batch/s, Loss=0.00424]\n"
          ]
        },
        {
          "name": "stdout",
          "output_type": "stream",
          "text": [
            "Epoch 7/15, Loss: 0.0344\n"
          ]
        },
        {
          "name": "stderr",
          "output_type": "stream",
          "text": [
            "Epoch 8/15: 100%|\u001b[32m██████████\u001b[0m| 229/229 [02:37<00:00,  1.45batch/s, Loss=0.0113]\n"
          ]
        },
        {
          "name": "stdout",
          "output_type": "stream",
          "text": [
            "Epoch 8/15, Loss: 0.0336\n"
          ]
        },
        {
          "name": "stderr",
          "output_type": "stream",
          "text": [
            "Epoch 9/15: 100%|\u001b[32m██████████\u001b[0m| 229/229 [02:37<00:00,  1.45batch/s, Loss=0.018]\n"
          ]
        },
        {
          "name": "stdout",
          "output_type": "stream",
          "text": [
            "Epoch 9/15, Loss: 0.0279\n"
          ]
        },
        {
          "name": "stderr",
          "output_type": "stream",
          "text": [
            "Epoch 10/15: 100%|\u001b[32m██████████\u001b[0m| 229/229 [02:37<00:00,  1.45batch/s, Loss=0.0027]\n"
          ]
        },
        {
          "name": "stdout",
          "output_type": "stream",
          "text": [
            "Epoch 10/15, Loss: 0.0214\n"
          ]
        },
        {
          "name": "stderr",
          "output_type": "stream",
          "text": [
            "Epoch 11/15: 100%|\u001b[32m██████████\u001b[0m| 229/229 [02:37<00:00,  1.46batch/s, Loss=0.000594]\n"
          ]
        },
        {
          "name": "stdout",
          "output_type": "stream",
          "text": [
            "Epoch 11/15, Loss: 0.0137\n"
          ]
        },
        {
          "name": "stderr",
          "output_type": "stream",
          "text": [
            "Epoch 12/15: 100%|\u001b[32m██████████\u001b[0m| 229/229 [02:36<00:00,  1.46batch/s, Loss=0.0503]\n"
          ]
        },
        {
          "name": "stdout",
          "output_type": "stream",
          "text": [
            "Epoch 12/15, Loss: 0.0170\n"
          ]
        },
        {
          "name": "stderr",
          "output_type": "stream",
          "text": [
            "Epoch 13/15: 100%|\u001b[32m██████████\u001b[0m| 229/229 [02:38<00:00,  1.45batch/s, Loss=0.00267]\n"
          ]
        },
        {
          "name": "stdout",
          "output_type": "stream",
          "text": [
            "Epoch 13/15, Loss: 0.0120\n"
          ]
        },
        {
          "name": "stderr",
          "output_type": "stream",
          "text": [
            "Epoch 14/15: 100%|\u001b[32m██████████\u001b[0m| 229/229 [02:41<00:00,  1.42batch/s, Loss=0.000357]\n"
          ]
        },
        {
          "name": "stdout",
          "output_type": "stream",
          "text": [
            "Epoch 14/15, Loss: 0.0105\n"
          ]
        },
        {
          "name": "stderr",
          "output_type": "stream",
          "text": [
            "Epoch 15/15: 100%|\u001b[32m██████████\u001b[0m| 229/229 [02:40<00:00,  1.42batch/s, Loss=3.51e-5]"
          ]
        },
        {
          "name": "stdout",
          "output_type": "stream",
          "text": [
            "Epoch 15/15, Loss: 0.0061\n"
          ]
        },
        {
          "name": "stderr",
          "output_type": "stream",
          "text": [
            "\n"
          ]
        }
      ],
      "source": [
        "import torch.optim as optim\n",
        "import torch.nn.functional as F\n",
        "import torch.nn as nn\n",
        "import copy\n",
        "from tqdm import tqdm\n",
        "\n",
        "# Optimizasyon algoritması ve kayıp fonksiyonu\n",
        "optimizer = optim.SGD(alexnet.parameters(), lr=0.001, momentum=0.9)\n",
        "criterion = nn.CrossEntropyLoss()\n",
        "\n",
        "# Eğitim döngüsü\n",
        "epochs = 3\n",
        "best_model_wts = copy.deepcopy(alexnet.state_dict())\n",
        "best_acc = 0.0\n",
        "\n",
        "for epoch in range(epochs):\n",
        "    print(f'Epoch {epoch+1}/{epochs}')\n",
        "    print('-' * 10)\n",
        "\n",
        "    for phase in ['Train', 'Validation']:\n",
        "        if phase == 'Train':\n",
        "            alexnet.train()\n",
        "        else:\n",
        "            alexnet.eval()\n",
        "\n",
        "        running_loss = 0.0\n",
        "        running_corrects = 0\n",
        "\n",
        "        data_loader = tqdm(dataloaders[phase], desc=f'{phase} Phase', unit=\"batch\", leave=True)\n",
        "        for inputs, labels in data_loader:\n",
        "            inputs, labels = inputs.to(device), labels.to(device)\n",
        "\n",
        "            optimizer.zero_grad()\n",
        "\n",
        "            with torch.set_grad_enabled(phase == 'Train'):\n",
        "                outputs = alexnet(inputs)\n",
        "                _, preds = torch.max(outputs, 1)\n",
        "                loss = criterion(outputs, labels)\n",
        "\n",
        "                if phase == 'Train':\n",
        "                    loss.backward()\n",
        "                    optimizer.step()\n",
        "\n",
        "            running_loss += loss.item() * inputs.size(0)\n",
        "            running_corrects += torch.sum(preds == labels.data)\n",
        "\n",
        "            data_loader.set_postfix({'loss': loss.item()})\n",
        "\n",
        "        epoch_loss = running_loss / len(image_datasets[phase])\n",
        "        epoch_acc = running_corrects.double() / len(image_datasets[phase])\n",
        "\n",
        "        print(f'{phase} Loss: {epoch_loss:.4f} Acc: {epoch_acc:.4f}')\n",
        "\n",
        "        if phase == 'Validation' and epoch_acc > best_acc:\n",
        "            best_acc = epoch_acc\n",
        "            best_model_wts = copy.deepcopy(alexnet.state_dict())\n",
        "\n",
        "    print()\n",
        "\n",
        "# En iyi model ağırlıklarını yükleme\n",
        "alexnet.load_state_dict(best_model_wts)\n"
      ]
    },
    {
      "cell_type": "code",
      "execution_count": 11,
      "metadata": {
        "colab": {
          "base_uri": "https://localhost:8080/"
        },
        "id": "zFXHfyjIx6zM",
        "outputId": "fd0af142-5715-41a2-c006-0276e98bc4cc"
      },
      "outputs": [
        {
          "name": "stdout",
          "output_type": "stream",
          "text": [
            "Test Accuracy: 0.9887\n",
            "Precision: 0.9847\n",
            "Recall: 0.9974\n",
            "F1-Score: 0.9910\n",
            "TP: 385.0000\n",
            "FP: 6.0000\n",
            "FN: 1.0000\n",
            "TN: 228.0000\n"
          ]
        }
      ],
      "source": [
        "correct = 0\n",
        "total = 0\n",
        "TP = 0\n",
        "FP = 0\n",
        "FN = 0\n",
        "TN = 0\n",
        "\n",
        "with torch.no_grad():\n",
        "    for inputs, labels in dataloaders['Test']:  # dataloaders'ı doğru şekilde kullanın\n",
        "        inputs, labels = inputs.to(device), labels.to(device)\n",
        "        outputs, _ = alexnet(inputs)  # alexnet modelinden çıktılar alınır\n",
        "        _, predicted = torch.max(outputs, 1)\n",
        "        total += labels.size(0)\n",
        "        correct += (predicted == labels).sum().item()\n",
        "\n",
        "        # Kesinlik ve Duyarlılık için TP, FP ve FN değerlerini hesapla\n",
        "        TP += ((predicted == labels) & (labels == 1)).sum().item()\n",
        "        FP += ((predicted != labels) & (labels == 0)).sum().item()\n",
        "        FN += ((predicted != labels) & (labels == 1)).sum().item()\n",
        "        TN += ((predicted == labels) & (labels == 0)).sum().item()\n",
        "\n",
        "accuracy = correct / total\n",
        "\n",
        "# Kesinlik (Precision) hesapla\n",
        "precision = TP / (TP + FP)\n",
        "\n",
        "# Duyarlılık (Recall) hesapla\n",
        "recall = TP / (TP + FN)\n",
        "\n",
        "# F1-Skoru hesapla\n",
        "f1_score = 2 * (precision * recall) / (precision + recall)\n",
        "\n",
        "print(f\"Test Accuracy: {accuracy:.4f}\")\n",
        "print(f\"Precision: {precision:.4f}\")\n",
        "print(f\"Recall: {recall:.4f}\")\n",
        "print(f\"F1-Score: {f1_score:.4f}\")\n",
        "\n",
        "print(f\"TP: {TP:.4f}\")\n",
        "print(f\"FP: {FP:.4f}\")\n",
        "print(f\"FN: {FN:.4f}\")\n",
        "print(f\"TN: {TN:.4f}\")\n"
      ]
    }
  ],
  "metadata": {
    "accelerator": "GPU",
    "colab": {
      "gpuType": "T4",
      "provenance": []
    },
    "kernelspec": {
      "display_name": "Python 3",
      "name": "python3"
    },
    "language_info": {
      "name": "python"
    }
  },
  "nbformat": 4,
  "nbformat_minor": 0
}
